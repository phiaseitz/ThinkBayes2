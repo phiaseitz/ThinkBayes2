{
 "metadata": {
  "name": "",
  "signature": "sha256:ea5c34de93e53164a557e4426f908306789610c0739b6c6276641ca43cec7996"
 },
 "nbformat": 3,
 "nbformat_minor": 0,
 "worksheets": [
  {
   "cells": [
    {
     "cell_type": "code",
     "collapsed": false,
     "input": [
      "import thinkbayes2\n",
      "import thinkplot"
     ],
     "language": "python",
     "metadata": {},
     "outputs": [],
     "prompt_number": 30
    },
    {
     "cell_type": "code",
     "collapsed": false,
     "input": [
      "class Euro (thinkbayes2.Suite):\n",
      "    def __init__(self, hypos, y):\n",
      "        \"\"\"Initialize self.\n",
      "\n",
      "        hypos: sequence of string bowl IDs\n",
      "        \"\"\"\n",
      "        self.y = y\n",
      "        thinkbayes2.Pmf.__init__(self)\n",
      "        for hypo in hypos:\n",
      "            self.Set(hypo, 1)\n",
      "        self.Normalize()\n",
      "    \n",
      "    def Likelihood(self, data, hypo):\n",
      "        x = hypo\n",
      "        if data == 'H':\n",
      "            return self.y*(x/100.0)\n",
      "        else:\n",
      "            return self.y*(1 - x/100.0)"
     ],
     "language": "python",
     "metadata": {},
     "outputs": [],
     "prompt_number": 52
    },
    {
     "cell_type": "code",
     "collapsed": false,
     "input": [
      "suiteUniform= Euro(xrange(0,101),0.5)\n",
      "dataset = 'H' * 140 + 'T' * 120"
     ],
     "language": "python",
     "metadata": {},
     "outputs": [],
     "prompt_number": 53
    },
    {
     "cell_type": "code",
     "collapsed": false,
     "input": [
      "for data in dataset:\n",
      "    suiteUniform.Update(data)"
     ],
     "language": "python",
     "metadata": {},
     "outputs": [],
     "prompt_number": 54
    },
    {
     "cell_type": "code",
     "collapsed": false,
     "input": [
      "thinkplot.Pdf(suiteUniform)"
     ],
     "language": "python",
     "metadata": {},
     "outputs": [
      {
       "metadata": {},
       "output_type": "display_data",
       "png": "[encoded data removed]",
       "text": [
        "<matplotlib.figure.Figure at 0x113c10410>"
       ]
      }
     ],
     "prompt_number": 55
    },
    {
     "cell_type": "code",
     "collapsed": false,
     "input": [
      "suiteTriangle = Euro(xrange(0,101),0.5)\n",
      "for x in range(0,51):\n",
      "    suiteTriangle.Set(x,x)\n",
      "for x in range(51,101):\n",
      "    suiteTriangle.Set(x,100-x)\n",
      "suiteTriangle.Normalize()"
     ],
     "language": "python",
     "metadata": {},
     "outputs": [
      {
       "metadata": {},
       "output_type": "pyout",
       "prompt_number": 57,
       "text": [
        "2500"
       ]
      }
     ],
     "prompt_number": 57
    },
    {
     "cell_type": "code",
     "collapsed": false,
     "input": [
      "for data in dataset:\n",
      "    suiteTriangle.Update(data)"
     ],
     "language": "python",
     "metadata": {},
     "outputs": [],
     "prompt_number": 58
    },
    {
     "cell_type": "code",
     "collapsed": false,
     "input": [
      "thinkplot.Pdf(suiteTriangle)"
     ],
     "language": "python",
     "metadata": {},
     "outputs": [
      {
       "metadata": {},
       "output_type": "display_data",
       "png": "[encoded data removed]",
       "text": [
        "<matplotlib.figure.Figure at 0x113c12350>"
       ]
      }
     ],
     "prompt_number": 17
    },
    {
     "cell_type": "code",
     "collapsed": false,
     "input": [],
     "language": "python",
     "metadata": {},
     "outputs": [],
     "prompt_number": 17
    },
    {
     "cell_type": "code",
     "collapsed": false,
     "input": [],
     "language": "python",
     "metadata": {},
     "outputs": [],
     "prompt_number": 17
    },
    {
     "cell_type": "code",
     "collapsed": false,
     "input": [],
     "language": "python",
     "metadata": {},
     "outputs": []
    }
   ],
   "metadata": {}
  }
 ]
}